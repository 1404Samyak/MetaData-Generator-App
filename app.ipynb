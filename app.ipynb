{
 "cells": [
  {
   "cell_type": "code",
   "execution_count": 18,
   "id": "5e612933",
   "metadata": {},
   "outputs": [],
   "source": [
    "import streamlit as st\n",
    "import tempfile\n",
    "import json\n",
    "from pathlib import Path\n",
    "from PyPDF2 import PdfReader\n",
    "from docx import Document as DocxDocument\n",
    "import pytesseract\n",
    "from langchain_groq import ChatGroq\n",
    "from langchain.schema import HumanMessage, SystemMessage\n",
    "from dotenv import load_dotenv\n",
    "from PIL import Image\n",
    "import io\n",
    "import fitz  \n",
    "from docx.opc.constants import RELATIONSHIP_TYPE as RT"
   ]
  },
  {
   "cell_type": "code",
   "execution_count": 19,
   "id": "7a594378",
   "metadata": {},
   "outputs": [
    {
     "data": {
      "text/plain": [
       "True"
      ]
     },
     "execution_count": 19,
     "metadata": {},
     "output_type": "execute_result"
    }
   ],
   "source": [
    "import os\n",
    "load_dotenv()\n"
   ]
  },
  {
   "cell_type": "code",
   "execution_count": 20,
   "id": "da5cd860",
   "metadata": {},
   "outputs": [],
   "source": [
    "os.environ[\"GROQ_API_KEY\"] = os.getenv(\"GROQ_API_KEY\")"
   ]
  },
  {
   "cell_type": "code",
   "execution_count": 21,
   "id": "79f0e00f",
   "metadata": {},
   "outputs": [
    {
     "name": "stdout",
     "output_type": "stream",
     "text": [
      "client=<groq.resources.chat.completions.Completions object at 0x0000029D7791ACC0> async_client=<groq.resources.chat.completions.AsyncCompletions object at 0x0000029D77919DF0> model_name='llama3-8b-8192' model_kwargs={} groq_api_key=SecretStr('**********')\n"
     ]
    }
   ],
   "source": [
    "llm = ChatGroq(\n",
    "    model=\"llama3-8b-8192\",\n",
    "    api_key=os.getenv(\"GROQ_API_KEY\")\n",
    ")\n",
    "print(llm)"
   ]
  },
  {
   "cell_type": "code",
   "execution_count": 22,
   "id": "e75c17da",
   "metadata": {},
   "outputs": [],
   "source": [
    "pytesseract.pytesseract.tesseract_cmd = r\"C:\\\\Program Files\\\\Tesseract-OCR\\\\tesseract.exe\""
   ]
  },
  {
   "cell_type": "code",
   "execution_count": 23,
   "id": "ca5c926f",
   "metadata": {},
   "outputs": [],
   "source": [
    "def extract_text_and_inline_images(uploaded_file):\n",
    "    suffix = Path(uploaded_file.name).suffix.lower()\n",
    "    text = \"\"\n",
    "    ocr_text = \"\"\n",
    "    image_list = []\n",
    "    ocr_texts_per_image = []\n",
    "\n",
    "    with tempfile.NamedTemporaryFile(delete=False, suffix=suffix) as tmp_file:\n",
    "        tmp_file.write(uploaded_file.read())\n",
    "        tmp_file_path = tmp_file.name\n",
    "\n",
    "    try:\n",
    "        if suffix == \".pdf\":\n",
    "            try:\n",
    "                reader = PdfReader(tmp_file_path)\n",
    "                text = \"\\n\".join([page.extract_text() or \"\" for page in reader.pages])\n",
    "            except Exception:\n",
    "                text = \"\"\n",
    "\n",
    "            pdf_doc = fitz.open(tmp_file_path)\n",
    "            for page in pdf_doc:\n",
    "                images = page.get_images(full=False)\n",
    "                for img in images:\n",
    "                    xref = img[0]\n",
    "                    base_image = pdf_doc.extract_image(xref)\n",
    "                    image_data = base_image[\"image\"]\n",
    "                    image = Image.open(io.BytesIO(image_data)).convert(\"RGB\")\n",
    "                    image_list.append(image)\n",
    "                    ocr_img_text = pytesseract.image_to_string(image)\n",
    "                    ocr_texts_per_image.append(ocr_img_text)\n",
    "            ocr_text = \"\\n\".join(ocr_texts_per_image)\n",
    "\n",
    "        elif suffix == \".docx\":\n",
    "            doc = DocxDocument(tmp_file_path)\n",
    "            text = \"\\n\".join([para.text for para in doc.paragraphs])\n",
    "            rels = doc.part._rels\n",
    "            for rel in rels:\n",
    "                rel = rels[rel]\n",
    "                if rel.reltype == RT.IMAGE:\n",
    "                    image_data = rel.target_part.blob\n",
    "                    image = Image.open(io.BytesIO(image_data)).convert(\"RGB\")\n",
    "                    image_list.append(image)\n",
    "                    ocr_img_text = pytesseract.image_to_string(image)\n",
    "                    ocr_texts_per_image.append(ocr_img_text)\n",
    "            ocr_text = \"\\n\".join(ocr_texts_per_image)\n",
    "\n",
    "        elif suffix == \".txt\":\n",
    "            with open(tmp_file_path, \"r\", encoding=\"utf-8\") as f:\n",
    "                text = f.read()\n",
    "\n",
    "        else:\n",
    "            text = f\"Unsupported file type: {suffix}\"\n",
    "\n",
    "    finally:\n",
    "        try:\n",
    "            os.remove(tmp_file_path)\n",
    "        except PermissionError:\n",
    "            pass\n",
    "\n",
    "    return {\n",
    "        \"text\": text.strip(),\n",
    "        \"ocr_text\": ocr_text.strip(),\n",
    "        \"images\": image_list,\n",
    "        \"ocr_texts_per_image\": ocr_texts_per_image\n",
    "    }"
   ]
  },
  {
   "cell_type": "code",
   "execution_count": 24,
   "id": "e189ea42",
   "metadata": {},
   "outputs": [],
   "source": [
    "def generate_metadata(text):\n",
    "    prompt = f\"\"\"\n",
    "You are a professional and wonderful metadata assistant.\n",
    "Analyze the following document,idenitfy and leverage most meaningful sections of document and return structured metadata in JSON format with fields:\n",
    "- title\n",
    "- summary (at least 15-20 lines in detail covering all important points of document)\n",
    "- keywords (comma-separated)\n",
    "- topics (broad subject categories)\n",
    "- author (if mentioned)\n",
    "- document_type\n",
    "-At end  rewrite the detailed summary(15-20 lines) so that user can see the summary alone.Please dont miss any important sections of document in this detailed summary\n",
    "Document Content:\n",
    "{text.strip()}\n",
    "\"\"\"\n",
    "    response = llm([\n",
    "        SystemMessage(content=\"You are a metadata extraction assistant.\"),\n",
    "        HumanMessage(content=prompt)\n",
    "    ])\n",
    "    return response.content.strip()"
   ]
  },
  {
   "cell_type": "code",
   "execution_count": 25,
   "id": "e363b2f0",
   "metadata": {},
   "outputs": [],
   "source": [
    "def summarize_ocr_text(ocr_text):\n",
    "    if not ocr_text.strip():\n",
    "        return \"No OCR content found to summarize.\"\n",
    "\n",
    "    prompt = (\n",
    "        \"You are a professional assistant. \"\n",
    "        \"Start your response with 'The following image ...'. \"\n",
    "        \"Summarize the following OCR-extracted content in a clear, well-organized, and visually appealing markdown format in about 5-10 lines \"\n",
    "        \"Your summary should include:\\n\"\n",
    "        \"- A short title or heading for the content\\n\"\n",
    "        \"- Key points or highlights as a bullet list\\n\"\n",
    "        \"- Detected names, dates, numbers, or keywords (if any)\\n\"\n",
    "        \"- A concise paragraph summarizing the main idea or purpose\\n\"\n",
    "        \"If the content is a graph or chart, explain axes and key trends. \"\n",
    "        \"If it's a table, highlight main comparisons or figures. \"\n",
    "        \"If it's a scanned paragraph, summarize the main idea. \"\n",
    "        \"Avoid assumptions. If content is unclear, mention it.\\n\\n\"\n",
    "        \"If it's none of the above, just describe the content of picture, background, etc.\\n\"\n",
    "        f\"OCR Text:\\n{ocr_text}\"\n",
    "    )\n",
    "\n",
    "    response = llm([\n",
    "        SystemMessage(content=\"You summarize OCR-extracted content in structured markdown.\"),\n",
    "        HumanMessage(content=prompt)\n",
    "    ])\n",
    "    return response.content.strip()"
   ]
  },
  {
   "cell_type": "markdown",
   "id": "a31f50d2",
   "metadata": {},
   "source": [
    "### Testing for DOCX,PDF AND TXT"
   ]
  },
  {
   "cell_type": "code",
   "execution_count": 26,
   "id": "8afac1bd",
   "metadata": {},
   "outputs": [
    {
     "name": "stdout",
     "output_type": "stream",
     "text": [
      "The mean and standard deviation are two fundamental statistical measures with distinct yet complementary properties. The mean, or average, represents the central tendency of a dataset, providing a single value that summarizes all the numbers in the set. It is sensitive to every value in the data, meaning that even a single extremely large or small value (an outlier) can significantly affect the mean. On the other hand, the standard deviation measures the amount of variation or dispersion in the dataset. A low standard deviation indicates that the data points are closely clustered around the mean, while a high standard deviation suggests that the values are spread out over a wider range. Both the mean and standard deviation are widely used in statistics to describe and compare datasets, and they are especially important in fields such as science, finance, and engineering for understanding patterns, consistency, and reliability in data. \n",
      "The z-test and p-value are important concepts in statistical hypothesis testing, each with distinct properties. The z-test is used to determine whether there is a significant difference between sample and population means, or between two sample means, especially when the sample size is large and the population variance is known. It assumes the data are normally distributed and calculates a z-score, which measures how many standard deviations a data point is from the mean. The p-value, on the other hand, is not a test itself but a probability that quantifies the strength of evidence against the null hypothesis. It represents the likelihood of obtaining a result at least as extreme as the observed one, assuming the null hypothesis is true. A small p-value suggests strong evidence against the null hypothesis, while a large p-value indicates weak evidence. Together, the z-test provides the test statistic and the p-value helps decide whether to reject or fail to reject the null hypothesis, making both essential tools for drawing conclusions from data in scientific research and data analysis.\n",
      "\n",
      "The 67-95-99 rule (more commonly known as the 68-95-99.7 rule or the empirical rule) describes how data is distributed in a normal (Gaussian) distribution. According to this rule, about 68% of the data falls within one standard deviation of the mean, about 95% falls within two standard deviations, and about 99.7% falls within three standard deviations. This means that for a bell-shaped Gaussian curve, the vast majority of values are clustered close to the mean, and very few are found far from it. The rule is widely used in statistics to quickly estimate the spread of data and to identify outliers or unusual observations. It only applies to data that is normally distributed and helps in understanding probabilities, making predictions, and setting thresholds in quality control and risk analysis\n",
      "\n",
      "\n",
      "A log-normal distribution is a continuous probability distribution in which the logarithm of the random variable is normally distributed. In other words, if a variable XX is log-normally distributed, then Y=ln⁡(X)Y=ln(X) follows a normal (Gaussian) distribution. This means that while the normal distribution can take both positive and negative values, the log-normal distribution only takes positive real values, making it especially useful for modeling data that cannot be negative and often displays a right-skewed, long-tailed pattern.\n",
      "The log-normal distribution commonly arises in situations where a quantity results from the multiplicative product of many independent, positive random variables—such as in modeling incomes, biological measurements, stock prices, and certain natural phenomena. Its probability density function is defined for x>0 and is characterized by two parameters: the mean (μμ) and standard deviation (σσ) of the variable’s natural logarithm, not of the variable itself.\n",
      "['Parameters\\n\\na, b integers with b > a\\nnm=b-a+1\\n\\n‘Support ke {a,atl,...,b—1,b}\\nPMF 1\\nn\\nCDF |k| -a+1\\nn\\n\\nMean a+b\\n\\n2\\nMedian a+b\\n\\n2\\n‘Mode N/A\\n\\n', 'Notation | Lognormal( 4, ” )\\n\\nParameters 4 € ( — 00,-+00 ) (logarithm of scale),\\n\\no>0\\n\\nSupport | z €(0,+00)\\n\\nPDF 1 (Ine —p)?\\n——— ep(-\\nsoir 20?\\n\\n', 'vo €0 70 TO 00\\n', 'Z=\\n\\nP17 P2\\n\\nPA-P)Ge+\\n\\n4)\\n\\nnz\\n\\n_ ™P1t\\n\\nr N2P2\\n\\nn, +4\\n\\n+ No\\n', '‘rma to estimate sample standard deviation\\n\\n', '']\n"
     ]
    }
   ],
   "source": [
    "from pathlib import Path\n",
    "import io\n",
    "\n",
    "file_path = r'C:\\Users\\mahap\\OneDrive\\Desktop\\C++,JS python codes\\.vscode\\ML-DL-NLP\\Langchain\\OpenProject3\\test.docx'\n",
    "with open(file_path, 'rb') as f:\n",
    "    uploaded_file = io.BytesIO(f.read())\n",
    "    uploaded_file.name = Path(file_path).name  \n",
    "\n",
    "results = extract_text_and_inline_images(uploaded_file)\n",
    "print(results['text'])\n",
    "print(results['ocr_texts_per_image'])"
   ]
  },
  {
   "cell_type": "code",
   "execution_count": 27,
   "id": "8186af98",
   "metadata": {},
   "outputs": [
    {
     "name": "stdout",
     "output_type": "stream",
     "text": [
      "After analyzing the document, I have extracted the most meaningful sections and structured the metadata in JSON format with the following fields:\n",
      "\n",
      "```\n",
      "{\n",
      "  \"title\": \"Statistical Measures and Distributions\",\n",
      "  \"summary\": \"This document explores the fundamental concepts of statistical measures, including the mean and standard deviation. It also delves into the z-test and p-value, which are crucial tools for hypothesis testing. Additionally, it discusses the 67-95-99 rule and the log-normal distribution, which is commonly used to model data that cannot be negative and often displays a right-skewed, long-tailed pattern. The document highlights the importance of these concepts in statistics and their applications in various fields.\",\n",
      "  \"keywords\": \"statistical measures, mean, standard deviation, z-test, p-value, 67-95-99 rule, log-normal distribution\",\n",
      "  \"topics\": [\"Statistics\", \"Data Analysis\", \"Mathematics\", \"Probability Theory\"],\n",
      "  \"author\": \"Unknown\",\n",
      "  \"document_type\": \"Technical Document\",\n",
      "  \"detailed_summary\": \"\"\n",
      "}\n",
      "```\n",
      "\n",
      "And here is the detailed summary:\n",
      "\n",
      "The mean and standard deviation are two essential statistical measures that provide valuable insights into a dataset. The mean, also known as the average, represents the central tendency of the data, while the standard deviation measures the amount of variation or dispersion. Both measures are widely used in statistics to describe and compare datasets. The mean is sensitive to every value in the data, making it susceptible to the influence of outliers. On the other hand, the standard deviation provides a more robust measure of variability.\n",
      "\n",
      "The z-test and p-value are critical concepts in statistical hypothesis testing. The z-test is used to determine whether there is a significant difference between sample and population means, or between two sample means. It assumes normality of the data and calculates a z-score, which measures how many standard deviations a data point is from the mean. The p-value, on the other hand, quantifies the strength of evidence against the null hypothesis. A small p-value suggests strong evidence against the null hypothesis, while a large p-value indicates weak evidence.\n",
      "\n",
      "The 67-95-99 rule, also known as the 68-95-99.7 rule or the empirical rule, describes how data is distributed in a normal (Gaussian) distribution. According to this rule, about 68% of the data falls within one standard deviation of the mean, about 95% falls within two standard deviations, and about 99.7% falls within three standard deviations. This rule is widely used in statistics to quickly estimate the spread of data and to identify outliers or unusual observations.\n",
      "\n",
      "A log-normal distribution is a continuous probability distribution in which the logarithm of the random variable is normally distributed. This distribution is commonly used to model data that cannot be negative and often displays a right-skewed, long-tailed pattern. It is characterized by two parameters: the mean (μμ) and standard deviation (σσ) of the variable's natural logarithm, not of the variable itself. The log-normal distribution is widely used in various fields, including finance, biology, and engineering, to model data that exhibits a skewed or long-tailed pattern.\n",
      "\n",
      "I hope this helps!\n"
     ]
    }
   ],
   "source": [
    "response=generate_metadata(results['text'])\n",
    "print(response)"
   ]
  },
  {
   "cell_type": "code",
   "execution_count": 28,
   "id": "8240b37e",
   "metadata": {},
   "outputs": [
    {
     "name": "stdout",
     "output_type": "stream",
     "text": [
      "The following image is a mathematical formula or concept:\n",
      "\n",
      "**Probability Distribution Parameters**\n",
      "\n",
      "* **Key Points:**\n",
      "\t+ Parameters `a` and `b` are integers with `b` greater than `a`.\n",
      "\t+ `nm` is equal to `b-a+1`.\n",
      "\t+ Support is from `a` to `b-1` and `b`.\n",
      "\t+ Mean is `a+b/2`.\n",
      "\t+ Median is also `a+b/2`.\n",
      "\t+ Mode is not applicable (N/A).\n",
      "\n",
      "**Detected keywords:** Probability Distribution, PMF, CDF, Mean, Median, Mode\n",
      "\n",
      "**Summary:** This formula outlines the parameters for a specific probability distribution, including the support range, mean, median, and mode. The parameters `a` and `b` define the range of values, and the mean and median are calculated as the average of `a` and `b`.\n",
      "The following image is an OCR-extracted text that appears to be a mathematical notation.\n",
      "\n",
      "**Title:** Lognormal Distribution Notation\n",
      "\n",
      "**Key Points:**\n",
      "\n",
      "* Lognormal distribution with parameters 4 and a logarithmic scale\n",
      "* Support is from 0 to infinity\n",
      "* PDF (probability density function) is given, but unclear due to OCR errors\n",
      "\n",
      "**Detected Names, Dates, Numbers, or Keywords:**\n",
      "\n",
      "* Lognormal\n",
      "* 4\n",
      "* PDF\n",
      "\n",
      "**Summary:**\n",
      "The provided notation appears to describe a lognormal distribution, which is a continuous probability distribution that is often used to model positive-valued variables. The parameters 4 and the logarithmic scale are specified, but the support of the distribution is from 0 to infinity. The PDF is given, but the OCR errors make it unclear.\n",
      "\n",
      "Note: The OCR errors in the text make it difficult to fully understand the notation, and further clarification is needed to accurately interpret the content.\n",
      "The following image is an OCR-extracted text:\n",
      "\n",
      "**Title:** Unknown Document\n",
      "\n",
      "**Key Points:**\n",
      "* Unknown text with possible format: \"vo €0 70 TO 00\"\n",
      "\n",
      "**Detected Text:** The text appears to be a sequence of numbers and symbols, but the meaning is unclear without more context.\n",
      "\n",
      "**Summary:** Unfortunately, the OCR-extracted text is not readable due to the unclear formatting and lack of context. Further investigation or clarification is needed to determine the purpose or meaning of the text.\n",
      "\n",
      "Note: If you can provide more context or clarify the purpose of the text, I'd be happy to help you summarize it further.\n",
      "The following image appears to be a scanned page with OCR-extracted text.\n",
      "\n",
      "**Title:** None\n",
      "\n",
      "**Key Points:**\n",
      "\n",
      "* P17 P2\n",
      "* PA-P)Ge+\n",
      "* +4\n",
      "* No\n",
      "\n",
      "**Detected Names, Dates, Numbers, or Keywords:** None\n",
      "\n",
      "**Summary:** Unfortunately, the OCR-extracted text appears to be unclear and does not provide a clear main idea or purpose. The text is likely a scanned page from a book or document, and the OCR process was unable to accurately extract the text.\n",
      "\n",
      "**Note:** The text appears to be a mix of symbols, letters, and numbers, but the meaning is unclear without further context.\n",
      "The following image is an OCR-extracted content regarding statistical analysis.\n",
      "\n",
      "**Title:** Estimating Sample Standard Deviation using RMAs\n",
      "\n",
      "**Key Points:**\n",
      "• Using RMAs to estimate sample standard deviation\n",
      "• [No specific information provided]\n",
      "\n",
      "**Detected Keywords:** RMAs, Sample Standard Deviation, Statistical Analysis\n",
      "\n",
      "**Summary:** The content appears to be discussing the application of RMAs (Repeated Measures Analysis) to estimate the sample standard deviation. However, the provided text does not provide further information on the topic. A more detailed explanation of the concept and its application would be beneficial for a comprehensive understanding.\n",
      "\n",
      "Note: The content is unclear and lacks specific details, making it difficult to provide a more in-depth summary.\n",
      "No OCR content found to summarize.\n"
     ]
    }
   ],
   "source": [
    "for text in results['ocr_texts_per_image']:\n",
    "    response=summarize_ocr_text(text)\n",
    "    print(response)"
   ]
  },
  {
   "cell_type": "code",
   "execution_count": 29,
   "id": "49735fae",
   "metadata": {},
   "outputs": [
    {
     "name": "stdout",
     "output_type": "stream",
     "text": [
      "The tiger ( Panthera tigris ) is the largest member of the cat family and one of the world ’s most iconic \n",
      "and powerful predators. Easily recognized by its striking orange coat with black stripes, the tiger is \n",
      "native to various parts of Asia, inhabiting forests, grasslands, and mangrove swamps. Tigers are \n",
      "solitary and territorial animals, relying on stealth and strength to hunt prey such as deer, wild boar, \n",
      "and buffalo. Sadly, their populations have declined sharply due to habitat loss, poaching, and huma n-\n",
      "wildlife conflict, leaving fewer than 4,000 tigers in the wild today. As an endangered species and a \n",
      "keystone predator, the tiger plays a crucial role in maintaining the health of its ecosystem. Revered in \n",
      "many cultures as a symbol of strength and courag e, the tiger ’s survival depends on ongoing \n",
      "conservation efforts to protect both the species and its natural habitats.  \n",
      " \n",
      "The elephant is the largest living land animal, easily recognized by its massive body, long trunk, large \n",
      "ears, and ivory tusks.  Three sp ecies exist today: the African bush elephant, the African forest \n",
      "elephant, and the Asian elephant, each adapted to a range of habitats across Africa and Asia, \n",
      "including savannas, forests, and grasslands.  Elephants are highly intelligent, social creatures k nown \n",
      "for their strong family bonds and remarkable memories.  Female elephants, or cows, live in \n",
      "matriarchal herds with their young, while adult males are more solitary or form loose bachelor \n",
      "groups.  Their trunks serve many purposes, from picking up food and  water to communicating and \n",
      "expressing emotions.  Elephants are herbivores, feeding on grasses, leaves, fruits, and bark, and they \n",
      "play a crucial role as keystone species by shaping their ecosystems.  Sadly, elephant populations have \n",
      "declined due to habitat loss, poaching for ivory, and human -wildlife conflict, making their \n",
      "conservation a global priority.  Despite their size and strength, elephants are vulnerable and need \n",
      "protection to ensure their survival for future generations  \n",
      " \n",
      "The parrot is a vibrant and i ntelligent bird known for its strikingly colorful feathers, strong curved \n",
      "beak, and remarkable ability to mimic sounds, including human speech. Found mainly in tropical and \n",
      "subtropical regions, parrots thrive in a variety of habitats such as rainforests, w oodlands, and \n",
      "savannas. They are social creatures, often living in flocks and forming close bonds with their mates. \n",
      "\n",
      "Parrots use their zygodactyl feet —two toes facing forward and two backward —to skillfully grasp food \n",
      "and climb. Their diet typically consists  of seeds, fruits, nuts, and sometimes insects. Highly playful \n",
      "and curious, parrots are celebrated for their problem -solving skills and affectionate nature, making \n",
      "them popular pets. However, many parrot species face threats from habitat loss and the illeg al pet \n",
      "trade, leading to declining populations and highlighting the need for conservation efforts to protect \n",
      "these extraordinary birds.  \n",
      " \n",
      " \n",
      "The dog is a domesticated mammal known for its intelligence, loyalty, and companionship, making it \n",
      "one of humanity ’s oldest and most beloved animal partners. Dogs come in a vast variety of breeds, \n",
      "each with its own unique physical traits and behavioral tendencies, shaped by generations of \n",
      "selective breeding for specific tasks such as herding, hunting, guarding, or compan ionship. While \n",
      "breed can influence a dog ’s energy level, trainability, and temperament —for example, herding \n",
      "breeds are often energetic and attentive, while hounds may be more independent —every dog is also \n",
      "an individual with its own personality. Dogs are hi ghly social animals, forming strong bonds with \n",
      "humans and other animals, and they communicate through a combination of vocalizations, body \n",
      "language, and facial expressions. Their adaptability and eagerness to please have made them \n",
      "invaluable as working ani mals and cherished as pets in homes around the world. While genetics play \n",
      "a role in their behavior, a dog ’s upbringing, environment, and training are equally important in \n",
      "shaping its character and temperamen  \n",
      " \n",
      "AUTHOR: SAMYAK MAHAPATRA\n",
      "['Best.\\nSummer.\\nEver.\\n', 'It was the best of\\ntimes, it was the worst\\nof times, it was the age\\nof wisdom, it was the\\nage of foolishness...\\n', \"[choose you, And Fl choose\\n‘you over and over. Without\\n\\npause, without a doubt,\\nina heartbeat. I'll keep\\nchoosing you.\\n\\n\"]\n"
     ]
    }
   ],
   "source": [
    "from pathlib import Path\n",
    "import io\n",
    "\n",
    "file_path = r'C:\\Users\\mahap\\OneDrive\\Desktop\\C++,JS python codes\\.vscode\\ML-DL-NLP\\Langchain\\OpenProject3\\test.pdf'\n",
    "with open(file_path, 'rb') as f:\n",
    "    uploaded_file = io.BytesIO(f.read())\n",
    "    uploaded_file.name = Path(file_path).name  \n",
    "\n",
    "results = extract_text_and_inline_images(uploaded_file)\n",
    "print(results['text'])\n",
    "print(results['ocr_texts_per_image'])"
   ]
  },
  {
   "cell_type": "code",
   "execution_count": 30,
   "id": "afedaee2",
   "metadata": {},
   "outputs": [
    {
     "name": "stdout",
     "output_type": "stream",
     "text": [
      "Here is the extracted metadata in JSON format:\n",
      "\n",
      "```\n",
      "{\n",
      "  \"title\": \"The Tiger, Elephant, Parrot, and Dog: Understanding Their Roles in Conservation\",\n",
      "  \"summary\": \"This document provides an overview of the tiger, elephant, parrot, and dog, highlighting their unique characteristics, habits, and importance in their ecosystems. The tiger is the largest member of the cat family, with a striking orange coat and black stripes, while the elephant is the largest living land animal. The parrot is a vibrant and intelligent bird known for its colorful feathers and ability to mimic sounds. The dog is a domesticated mammal known for its intelligence, loyalty, and companionship. Unfortunately, all four species face threats from habitat loss, poaching, and human-wildlife conflict, making conservation efforts crucial for their survival. The document emphasizes the importance of protecting these species and their habitats to maintain the health of their ecosystems and ensure their survival for future generations.\",\n",
      "  \"keywords\": \"tiger, elephant, parrot, dog, conservation, habitat loss, poaching, human-wildlife conflict\",\n",
      "  \"topics\": [\"wildlife\", \"conservation\", \"ecosystems\", \"animals\"],\n",
      "  \"author\": \"SAMYAK MAHAPATRA\",\n",
      "  \"document_type\": \"informational article\"\n",
      "}\n",
      "```\n",
      "\n",
      "And here is the detailed summary:\n",
      "\n",
      "The tiger, elephant, parrot, and dog are four species that play crucial roles in their respective ecosystems. The tiger, the largest member of the cat family, is native to various parts of Asia and is easily recognized by its striking orange coat with black stripes. It is a solitary and territorial animal that relies on stealth and strength to hunt prey. Unfortunately, tiger populations have declined sharply due to habitat loss, poaching, and human-wildlife conflict, leaving fewer than 4,000 tigers in the wild today.\n",
      "\n",
      "The elephant is the largest living land animal, found in various parts of Africa and Asia. It is a highly intelligent, social creature that lives in matriarchal herds with its young, while adult males are more solitary or form loose bachelor groups. Elephants play a crucial role as keystone species by shaping their ecosystems, but their populations have declined due to habitat loss, poaching for ivory, and human-wildlife conflict.\n",
      "\n",
      "The parrot is a vibrant and intelligent bird known for its strikingly colorful feathers, strong curved beak, and remarkable ability to mimic sounds. Found mainly in tropical and subtropical regions, parrots thrive in a variety of habitats, including rainforests, woodlands, and savannas. They are social creatures, often living in flocks and forming close bonds with their mates. Unfortunately, many parrot species face threats from habitat loss and the illegal pet trade, leading to declining populations and highlighting the need for conservation efforts to protect these extraordinary birds.\n",
      "\n",
      "The dog, a domesticated mammal, is known for its intelligence, loyalty, and companionship, making it one of humanity's oldest and most beloved animal partners. Dogs come in a vast variety of breeds, each with its own unique physical traits and behavioral tendencies, shaped by generations of selective breeding for specific tasks. While breed can influence a dog's energy level, trainability, and temperament, every dog is also an individual with its own personality. Dogs are highly social animals, forming strong bonds with humans and other animals, and they communicate through a combination of vocalizations, body language, and facial expressions.\n",
      "\n",
      "Unfortunately, all four species face threats from habitat loss, poaching, and human-wildlife conflict, making conservation efforts crucial for their survival. The document emphasizes the importance of protecting these species and their habitats to maintain the health of their ecosystems and ensure their survival for future generations.\n"
     ]
    }
   ],
   "source": [
    "response=generate_metadata(results['text'])\n",
    "print(response)"
   ]
  },
  {
   "cell_type": "code",
   "execution_count": 31,
   "id": "59963960",
   "metadata": {},
   "outputs": [
    {
     "name": "stdout",
     "output_type": "stream",
     "text": [
      "The following image is an OCR-extracted text:\n",
      "\n",
      "**Summer**\n",
      "\n",
      "• Key points:\n",
      "\t+ Best\n",
      "\t+ Summer\n",
      "\t+ Ever\n",
      "\n",
      "**Summary:**\n",
      "This text appears to be a simple phrase expressing enthusiasm and positivity towards summer. The words \"Best\", \"Summer\", and \"Ever\" convey a sense of excitement and joy, suggesting that the author is looking forward to or is already experiencing a wonderful summer.\n",
      "\n",
      "Note: The content is short and straightforward, with no additional information or context provided.\n",
      "The following image is a passage of text.\n",
      "\n",
      "**Title:** Excerpt from Charles Dickens' \"A Tale of Two Cities\"\n",
      "\n",
      "**Key Points:**\n",
      "\n",
      "* The text describes the contrast between two eras\n",
      "* It highlights the coexistence of wisdom and foolishness\n",
      "* The passage is an opening quote from Charles Dickens' novel \"A Tale of Two Cities\"\n",
      "\n",
      "**Detected keywords:** wisdom, foolishness, best, worst, times\n",
      "\n",
      "**Summary:** This passage is an iconic opening quote from Charles Dickens' novel \"A Tale of Two Cities\". It sets the tone for the rest of the book by describing the contrast between two eras, highlighting the coexistence of wisdom and foolishness. The quote is a reflection of the complexities and contradictions of human nature.\n",
      "The following image is a poem, likely handwritten:\n",
      "\n",
      "**Title:** Unwavering Choice\n",
      "\n",
      "**Key Points:**\n",
      "\n",
      "* The speaker chooses someone repeatedly without hesitation\n",
      "* The choice is made without pause or doubt\n",
      "* The speaker promises to continue choosing this person\n",
      "\n",
      "**Detected Keywords:**\n",
      "\n",
      "* Choose\n",
      "* You\n",
      "* Heartbeat\n",
      "\n",
      "**Summary:**\n",
      "This poem expresses a strong and unwavering commitment to choosing someone, emphasizing the speed and certainty of this decision. The speaker's determination to continue choosing this person is evident, suggesting a deep emotional connection or loyalty.\n",
      "\n",
      "Note: The poem's content is clear and concise, with a simple and relatable theme.\n"
     ]
    }
   ],
   "source": [
    "for text in results['ocr_texts_per_image']:\n",
    "    response=summarize_ocr_text(text)\n",
    "    print(response)"
   ]
  },
  {
   "cell_type": "code",
   "execution_count": 32,
   "id": "8cdbe6f9",
   "metadata": {},
   "outputs": [
    {
     "name": "stdout",
     "output_type": "stream",
     "text": [
      "nth_super_ugly_number:\n",
      "  problem:\n",
      "    description: >\n",
      "      Find the nth super ugly number, where a super ugly number is a positive integer \n",
      "      whose prime factors are only from the given list `primes`.\n",
      "\n",
      "    input:\n",
      "      n: The index (1-based) of the super ugly number to return.\n",
      "      primes: A list of prime numbers used to generate super ugly numbers.\n",
      "\n",
      "    output:\n",
      "      dp[n]: The nth super ugly number.\n",
      "\n",
      "  definitions:\n",
      "    dp[i]: >\n",
      "      The i-th super ugly number, where:\n",
      "      - dp[1] is initialized to 1 (the first super ugly number),\n",
      "      - dp[i] is built using previously computed dp values and the prime list.\n",
      "\n",
      "    a[j]: >\n",
      "      The index pointer for each prime number `primes[j]`, initially pointing to dp[1].\n",
      "      - It tracks which multiple of a given prime to consider next.\n",
      "\n",
      "  approach:\n",
      "    type: Dynamic Programming (with multiple moving pointers)\n",
      "    steps:\n",
      "      - Initialize `dp` as a vector of size (n+1), with dp[1] = 1.\n",
      "      - Initialize an index pointer array `a` of size m (number of primes), all set to 1.\n",
      "      - For each i from 2 to n:\n",
      "        - Set val = infinity.\n",
      "        - For each prime:\n",
      "          - Compute `dp[a[j]] * primes[j]`, and keep track of the minimum of all.\n",
      "        - Set dp[i] = min value found.\n",
      "        - For each prime again:\n",
      "          - If the product equals dp[i], increment the respective pointer a[j] to avoid duplicates.\n",
      "\n",
      "  explanation:\n",
      "    - At every step, you are trying to generate the next smallest number \n",
      "      whose prime divisors are limited to the provided list `primes`.\n",
      "    - You generate the next candidates by multiplying previous dp values with each prime.\n",
      "    - The multiple pointers ensure you avoid recomputing duplicate values \n",
      "      and efficiently progress each sequence.\n",
      "    - The result is always increasing, and duplicates are prevented by the condition \n",
      "      `if dp[a[j]] * primes[j] == dp[i]`.\n",
      "\n",
      "  complexity:\n",
      "    time: O(n * k), where k is the number of primes.\n",
      "    space: O(n + k), for storing the dp array and pointer list.\n",
      "\n",
      "  output:\n",
      "    return_value: dp[n]\n",
      "\n",
      "  notes:\n",
      "    - Use of `1LL` ensures multiplication stays in long long to avoid integer overflow.\n",
      "    - Final result is cast to int before returning, since the result fits in 32-bit int.\n",
      "\n",
      "AUTHOR: Dean Hujisen\n",
      "[]\n"
     ]
    }
   ],
   "source": [
    "from pathlib import Path\n",
    "import io\n",
    "\n",
    "file_path = r'C:\\Users\\mahap\\OneDrive\\Desktop\\C++,JS python codes\\.vscode\\ML-DL-NLP\\Langchain\\OpenProject3\\test.txt'\n",
    "with open(file_path, 'rb') as f:\n",
    "    uploaded_file = io.BytesIO(f.read())\n",
    "    uploaded_file.name = Path(file_path).name  \n",
    "\n",
    "results = extract_text_and_inline_images(uploaded_file)\n",
    "print(results['text'])\n",
    "print(results['ocr_texts_per_image'])"
   ]
  },
  {
   "cell_type": "code",
   "execution_count": 33,
   "id": "4abb1dff",
   "metadata": {},
   "outputs": [
    {
     "name": "stdout",
     "output_type": "stream",
     "text": [
      "Here is the extracted metadata in JSON format:\n",
      "\n",
      "```\n",
      "{\n",
      "  \"title\": \"nth Super Ugly Number\",\n",
      "  \"summary\": \"This problem is about finding the nth super ugly number, where a super ugly number is a positive integer whose prime factors are only from the given list `primes`. The approach is to use dynamic programming with multiple moving pointers. The problem starts by initializing a dynamic programming array `dp` of size `n+1` and an index pointer array `a` of size `m` (number of primes). Then, for each `i` from 2 to `n`, it finds the minimum value among `dp[a[j]] * primes[j]` for each prime, sets `dp[i]` to this minimum value, and increments the respective pointer `a[j]` to avoid duplicates. The time complexity is O(n * k), where `k` is the number of primes, and the space complexity is O(n + k).\",\n",
      "  \"keywords\": \"super ugly number, dynamic programming, moving pointers, prime numbers\",\n",
      "  \"topics\": [\"Algorithms\", \"Dynamic Programming\", \"Number Theory\"],\n",
      "  \"author\": \"Dean Hujisen\",\n",
      "  \"document_type\": \"Algorithm Problem\"\n",
      "}\n",
      "```\n",
      "\n",
      "And here is the detailed summary:\n",
      "\n",
      "This problem is about finding the nth super ugly number, where a super ugly number is a positive integer whose prime factors are only from the given list `primes`. The approach to solve this problem is to use dynamic programming with multiple moving pointers.\n",
      "\n",
      "The problem starts by initializing a dynamic programming array `dp` of size `n+1` and an index pointer array `a` of size `m` (number of primes). Then, for each `i` from 2 to `n`, it finds the minimum value among `dp[a[j]] * primes[j]` for each prime, sets `dp[i]` to this minimum value, and increments the respective pointer `a[j]` to avoid duplicates.\n",
      "\n",
      "The time complexity of this approach is O(n * k), where `k` is the number of primes, and the space complexity is O(n + k). This is because the algorithm needs to iterate through each `i` from 2 to `n`, and for each `i`, it needs to iterate through each prime number `primes[j]`.\n",
      "\n",
      "The result of this algorithm is the nth super ugly number, which is stored in the `dp` array. The algorithm uses the `1LL` constant to ensure that the multiplication stays in long long to avoid integer overflow. Finally, the result is cast to int before returning, since the result fits in 32-bit int.\n",
      "\n",
      "Note that the use of `a[j]` as the index pointer for each prime number `primes[j]` allows the algorithm to efficiently generate the next smallest number whose prime divisors are limited to the provided list `primes`.\n"
     ]
    }
   ],
   "source": [
    "response=generate_metadata(results['text'])\n",
    "print(response)"
   ]
  },
  {
   "cell_type": "code",
   "execution_count": 34,
   "id": "5770078d",
   "metadata": {},
   "outputs": [
    {
     "name": "stdout",
     "output_type": "stream",
     "text": [
      "[]\n"
     ]
    }
   ],
   "source": [
    "for text in results['ocr_texts_per_image']:\n",
    "    response=summarize_ocr_text(text)\n",
    "    print(response)\n",
    "print(results['ocr_texts_per_image'])\n",
    "# There is no inline texts for txt files so that part will be empty"
   ]
  },
  {
   "cell_type": "code",
   "execution_count": 39,
   "id": "7a39fa15",
   "metadata": {},
   "outputs": [],
   "source": [
    "# This will create a ~8MB text file named 'large_test.txt'\n",
    "with open('large_test.txt', 'w', encoding='utf-8') as f:\n",
    "    for _ in range(150000):  # 10 bytes per line * 800,000 = ~8MB\n",
    "        f.write('This is a test line for large file.\\n')\n"
   ]
  },
  {
   "cell_type": "code",
   "execution_count": null,
   "id": "6ab39c80",
   "metadata": {},
   "outputs": [],
   "source": []
  }
 ],
 "metadata": {
  "kernelspec": {
   "display_name": "Langchain",
   "language": "python",
   "name": "python3"
  },
  "language_info": {
   "codemirror_mode": {
    "name": "ipython",
    "version": 3
   },
   "file_extension": ".py",
   "mimetype": "text/x-python",
   "name": "python",
   "nbconvert_exporter": "python",
   "pygments_lexer": "ipython3",
   "version": "3.12.9"
  }
 },
 "nbformat": 4,
 "nbformat_minor": 5
}
